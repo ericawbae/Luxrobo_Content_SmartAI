{
 "cells": [
  {
   "cell_type": "markdown",
   "metadata": {},
   "source": [
    "● 라이브러리 불러오기 및 모디 모듈 로드"
   ]
  },
  {
   "cell_type": "code",
   "execution_count": 1,
   "metadata": {
    "scrolled": true
   },
   "outputs": [
    {
     "name": "stdout",
     "output_type": "stream",
     "text": [
      "Running PyMODI (v1.0.1)\n",
      "Initiating can connection...\n",
      "Start initializing connected MODI modules\n",
      "Button (4087) has been connected!\n",
      "Motor (2924) has been connected!\n",
      "Motor (2924) is not up to date. Please update the module by calling modi.update_module_firmware\n",
      "MODI modules are initialized!\n",
      "MODI AI modules are initialized!\n"
     ]
    }
   ],
   "source": [
    "import cv2\n",
    "import tensorflow.keras\n",
    "from PIL import Image, ImageOps\n",
    "import numpy as np\n",
    "import modi\n",
    "from IPython.display import clear_output, display\n",
    "import time\n",
    "\n",
    "bundle = modi.MODI(ai_mode=True)\n",
    "mot = bundle.motors[0]\n",
    "btn = bundle.buttons[0]"
   ]
  },
  {
   "cell_type": "markdown",
   "metadata": {},
   "source": [
    "● 메인 함수"
   ]
  },
  {
   "cell_type": "code",
   "execution_count": 2,
   "metadata": {
    "scrolled": false
   },
   "outputs": [
    {
     "name": "stdout",
     "output_type": "stream",
     "text": [
      "WARNING:tensorflow:From /home/pi/.local/lib/python3.7/site-packages/tensorflow_core/python/ops/init_ops.py:97: calling GlorotUniform.__init__ (from tensorflow.python.ops.init_ops) with dtype is deprecated and will be removed in a future version.\n",
      "Instructions for updating:\n",
      "Call initializer instance with the dtype argument instead of passing it to the constructor\n",
      "WARNING:tensorflow:From /home/pi/.local/lib/python3.7/site-packages/tensorflow_core/python/ops/init_ops.py:97: calling Zeros.__init__ (from tensorflow.python.ops.init_ops) with dtype is deprecated and will be removed in a future version.\n",
      "Instructions for updating:\n",
      "Call initializer instance with the dtype argument instead of passing it to the constructor\n",
      "WARNING:tensorflow:From /home/pi/.local/lib/python3.7/site-packages/tensorflow_core/python/ops/resource_variable_ops.py:1630: calling BaseResourceVariable.__init__ (from tensorflow.python.ops.resource_variable_ops) with constraint is deprecated and will be removed in a future version.\n",
      "Instructions for updating:\n",
      "If using Keras pass *_constraint arguments to layers.\n"
     ]
    },
    {
     "data": {
      "image/jpeg": "[encoded data removed]",
      "text/plain": [
       "<IPython.core.display.Image object>"
      ]
     },
     "metadata": {},
     "output_type": "display_data"
    },
    {
     "data": {
      "text/html": [
       "43 FPS"
      ],
      "text/plain": [
       "<IPython.core.display.HTML object>"
      ]
     },
     "metadata": {},
     "output_type": "display_data"
    },
    {
     "name": "stdout",
     "output_type": "stream",
     "text": [
      "ready\n",
      "cam True\n",
      "Predicted Class :  label2\r"
     ]
    }
   ],
   "source": [
    "# 클레스 종류 \n",
    "classes = ['label1','label2']\n",
    "\n",
    "# 학습한 모델 불러오기 및 구성\n",
    "model = tensorflow.keras.models.load_model('./model/model.h5')\n",
    "\n",
    "data = np.ndarray(shape=(1, 24, 32, 3), dtype=np.float32)\n",
    "\n",
    "width = 32\n",
    "height = 24\n",
    "dim = (width, height)\n",
    "\n",
    "#카메라 모듈 불러오기\n",
    "cam = bundle.ai_cameras[0]\n",
    "cam.set_window()\n",
    "\n",
    "print('ready')\n",
    "print('cam',cam.is_opened())\n",
    "\n",
    "#카매라가 연결되었으면 활성화\n",
    "while cam.is_opened():\n",
    "    frame = cam.read()\n",
    "    \n",
    "    #  frame 자료 이미지 변환\n",
    "    image = Image.fromarray(frame)\n",
    "\n",
    "    # \n",
    "    size = (224, 224)\n",
    "    image = ImageOps.fit(image, size, Image.ANTIALIAS)\n",
    "\n",
    "    # Numpy array 데이터 형태로 변환\n",
    "    image_array = np.asarray(image)\n",
    "\n",
    "    # display the resized image\n",
    "    #image.show()\n",
    "\n",
    "    # 이미지 정규화 작업\n",
    "    normalized_image_array = (image_array.astype(np.float32) / 127.0) - 1\n",
    "    \n",
    "    # 영상을 라즈베리파이가 처리가능하게 32 x 24 크기로 축소하여 리사이징\n",
    "    resized = cv2.resize(normalized_image_array, dim, interpolation = cv2.INTER_AREA)\n",
    "    # Load the image into the array\n",
    "    data[0] = resized\n",
    "\n",
    "#     print('resized', data[0].shape ,end='\\r')\n",
    "\n",
    "    # 모델에 영상을 넣어 예측하는 부분. \n",
    "    pred = model.predict_classes(data)\n",
    "\n",
    "    pred_class = classes[pred[0]]\n",
    "\n",
    "    print(\"Predicted Class : \", pred_class , end='\\r')\n",
    "    cam.show(frame)\n",
    "    \n",
    "\n",
    "    if pred_class == 'label1':\n",
    "        mot.speed = -40, 40\n",
    "    elif pred_class == 'label2':\n",
    "        mot.speed = 0, 0\n",
    "\n",
    "    if btn.clicked:\n",
    "        mot.speed = 0,0\n",
    "        # self.camera.release()\n",
    "        cv2.destroyAllWindows()\n",
    "        break\n",
    "\n",
    "    if cv2.waitKey(1) & 0xFF == ord('q'):\n",
    "        mot.speed = 0,0\n",
    "        cam.release()\n",
    "        cv2.destroyAllWindows()\n",
    "        break\n",
    "        \n",
    "    "
   ]
  },
  {
   "cell_type": "code",
   "execution_count": null,
   "metadata": {},
   "outputs": [],
   "source": []
  }
 ],
 "metadata": {
  "kernelspec": {
   "display_name": "Python 3",
   "language": "python",
   "name": "python3"
  },
  "language_info": {
   "codemirror_mode": {
    "name": "ipython",
    "version": 3
   },
   "file_extension": ".py",
   "mimetype": "text/x-python",
   "name": "python",
   "nbconvert_exporter": "python",
   "pygments_lexer": "ipython3",
   "version": "3.7.3"
  }
 },
 "nbformat": 4,
 "nbformat_minor": 4
}
